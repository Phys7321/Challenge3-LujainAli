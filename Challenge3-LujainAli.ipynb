{
 "cells": [
  {
   "cell_type": "code",
   "execution_count": 1,
   "metadata": {},
   "outputs": [
    {
     "name": "stdout",
     "output_type": "stream",
     "text": [
      "Acceptance ratio=  0.82425\n",
      "<Energy>= 39.94760907470386\n",
      "<Energy^2>= 4817.007181084463\n",
      "Error= 0.040132254548549226\n",
      "Acceptance ratio=  0.8443765\n"
     ]
    },
    {
     "data": {
      "image/png": "[encoded data removed]",
      "text/plain": [
       "<Figure size 432x288 with 1 Axes>"
      ]
     },
     "metadata": {},
     "output_type": "display_data"
    }
   ],
   "source": [
    "### Exercise 1: Classical gas in 1D: \n",
    "\n",
    "###Challenege 3: 4-7\n",
    "\n",
    "# In this case, we assume that the particles do not interact and the particle velocities \n",
    "#are continuous and unbounded. The energy is the sum of the kinetic energies of the individual \n",
    "#particles. Hence, for and ideal gas, the only coordinates of interest are the velocities. \n",
    "#In order to change a configuration, we choose a particle at random and change its velocity by \n",
    "#a random amount according to the corresponding transition probability. \n",
    "#For simplicity we consider only the one-dimensional case.\n",
    "\n",
    "###########\n",
    "\n",
    "# Part 4: Compute the mean energy per particle for  T=10, 100 and 400\n",
    "# approximate number of warmup steps for N=10 and T=100, and for N=40 and T=100? \n",
    "\n",
    "\n",
    "# Part 5: Compute the probability  P(E)dE for the system of  N  particles\n",
    "#to have a total energy between  E  and  E+dE. Do you expect  P(E) to be proportional \n",
    "#to  e−βE Plot  P(E)  as a function of  E  and describe the qualitative behavior of  P(E). \n",
    "#Does the plot of  ln(P(E)) yield a straight line?\n",
    "\n",
    "#Part 6: Compute the mean energy for  T=10 ,20 ,30 ,... 90 ,  100  and 110  \n",
    "#and estimate the heat capacity.\n",
    "\n",
    "\n",
    "#Part7:Compute the mean square energy fluctuations  ⟨ΔE2⟩=⟨E2⟩−⟨E⟩2 for T=10  and T=40\n",
    "#Compare the magnitude of the ratio  ⟨ΔE2⟩/T2 with the heat capacity determined in the previous item.\n",
    "\n",
    "\n",
    "\n",
    "%matplotlib inline\n",
    "import numpy as np\n",
    "from matplotlib import pyplot\n",
    "\n",
    "nwalkers = 20\n",
    "v = np.zeros(nwalkers)\n",
    "v.fill(20)\n",
    "T = 80\n",
    "delta = 5\n",
    "\n",
    "def metropolis(vold):\n",
    "    global delta, T\n",
    "    vtrial = np.random.random()    \n",
    "    vtrial = vold+(2*vtrial-1)*delta\n",
    "    weight = np.exp(-(vtrial**2-vold**2)/T)\n",
    "    vnew = vold\n",
    "    if(weight >= 1): #Accept\n",
    "        vnew = vtrial\n",
    "    elif(weight != 0):\n",
    "        r = np.random.random()\n",
    "        if(r <= weight): #Accept\n",
    "            vnew = vtrial\n",
    "    return vnew\n",
    "# Warmup loop\n",
    "\n",
    "Nwarmup = 200\n",
    "Ewarmup = np.zeros(Nwarmup)\n",
    "\n",
    "Naccept = 0.\n",
    "for j in range(Nwarmup):\n",
    "    for i in range(nwalkers):\n",
    "        vold = v[i]\n",
    "        v[i] = metropolis(v[i])\n",
    "        if(v[i] != vold):\n",
    "            Naccept += 1\n",
    "        \n",
    "    Ewarmup[j] = np.sum(v**2)/nwalkers\n",
    "\n",
    "x = np.arange(0,Nwarmup,1)\n",
    "pyplot.plot(x,Ewarmup,ls='-',c='blue');\n",
    "pyplot.xlabel('Nwarmup')\n",
    "pyplot.ylabel('Energy')\n",
    "\n",
    "print(\"Acceptance ratio= \", Naccept/float(Nwarmup*nwalkers))\n",
    "\n",
    "# Measurement loop\n",
    "\n",
    "Nmeasure = 100000\n",
    "Naccept = 0.\n",
    "E = 0.\n",
    "E2 = 0.\n",
    "for j in range(Nmeasure):\n",
    "    for i in range(nwalkers):\n",
    "        vold = v[i]\n",
    "        v[i] = metropolis(v[i])\n",
    "        if(v[i] != vold):\n",
    "            Naccept += 1\n",
    "\n",
    "    E += np.sum(v**2)\n",
    "    E2 += np.sum(v**4)\n",
    "\n",
    "E = E/Nmeasure/nwalkers\n",
    "E2 = E2/Nmeasure/nwalkers\n",
    "print(\"<Energy>=\", E)\n",
    "print(\"<Energy^2>=\", E2)\n",
    "print(\"Error=\", np.sqrt((E2-E**2)/Nmeasure/nwalkers))\n",
    "\n",
    "print(\"Acceptance ratio= \", Naccept/float(Nmeasure*nwalkers))\n",
    "\n"
   ]
  },
  {
   "cell_type": "code",
   "execution_count": 4,
   "metadata": {},
   "outputs": [
    {
     "data": {
      "text/plain": [
       "Text(0, 0.5, '<E>')"
      ]
     },
     "execution_count": 4,
     "metadata": {},
     "output_type": "execute_result"
    },
    {
     "data": {
      "image/png": "[encoded data removed]",
      "text/plain": [
       "<Figure size 432x288 with 1 Axes>"
      ]
     },
     "metadata": {},
     "output_type": "display_data"
    }
   ],
   "source": [
    "## mean energy per particle T=10,100 and 400\n",
    "#at equilibrium: <E> = T/2\n",
    "\n",
    "array_T=[10,100,400]\n",
    "nwalkers = 20 \n",
    "\n",
    "Nwarmup=[0,0,0]\n",
    "avgE=np.zeros(len(array_T))\n",
    "avgE2=np.zeros(len(array_T))\n",
    "Nmeasure=100000\n",
    "for l in range (len(array_T)):\n",
    "    v = np.zeros(nwalkers)\n",
    "    v.fill(20)\n",
    "    T=array_T[l]\n",
    "    Nwarmup[l]=0\n",
    "    Ewarmup = np.sum(v**2)/nwalkers\n",
    "    while (Ewarmup >= T/2):\n",
    "        for i in range(nwalkers):\n",
    "            vold = v[i]\n",
    "            v[i] = metropolis(v[i])\n",
    "        Ewarmup = np.sum(v**2)/nwalkers    \n",
    "        Nwarmup[l] +=1\n",
    "    for j in range(Nmeasure):\n",
    "        for i in range(nwalkers):\n",
    "            vold = v[i]\n",
    "            v[i] = metropolis(v[i])\n",
    "            \n",
    "        avgE[l] += np.sum(v**2)\n",
    "        avgE2[l] += np.sum(v**4)\n",
    "        \n",
    "    avgE[l] = avgE[l]/Nmeasure/nwalkers\n",
    "    avgE2[l] = avgE2[l]/Nmeasure/nwalkers\n",
    "    \n",
    "pyplot.plot(array_T,avgE,marker='x',c='green')\n",
    "pyplot.xlabel('T')\n",
    "pyplot.ylabel('<E>')\n"
   ]
  },
  {
   "cell_type": "code",
   "execution_count": 5,
   "metadata": {},
   "outputs": [
    {
     "data": {
      "text/plain": [
       "Text(0, 0.5, 'Error')"
      ]
     },
     "execution_count": 5,
     "metadata": {},
     "output_type": "execute_result"
    },
    {
     "data": {
      "image/png": "[encoded data removed]",
      "text/plain": [
       "<Figure size 432x288 with 1 Axes>"
      ]
     },
     "metadata": {},
     "output_type": "display_data"
    }
   ],
   "source": [
    "pyplot.plot(array_T, np.sqrt((avgE2-avgE**2)/Nmeasure/nwalkers), c='red')\n",
    "pyplot.xlabel('T')\n",
    "pyplot.ylabel('Error')"
   ]
  },
  {
   "cell_type": "code",
   "execution_count": 7,
   "metadata": {},
   "outputs": [
    {
     "name": "stdout",
     "output_type": "stream",
     "text": [
      "\n",
      "Nwarmup(N=10) = 33 \n",
      "\n",
      "\n",
      "Nwarmup (N=40) = 42 \n",
      "\n"
     ]
    }
   ],
   "source": [
    "#for N=10,100 &&&  40, 100\n",
    "\n",
    "nwalkers = 10 \n",
    "\n",
    "Nwarmup=0\n",
    "\n",
    "\n",
    "v = np.zeros(nwalkers)\n",
    "v.fill(20)\n",
    "T=100\n",
    "Nwarmup=0\n",
    "Ewarmup = np.sum(v**2)/nwalkers\n",
    "while (Ewarmup >= T/2):\n",
    "    for i in range(nwalkers):\n",
    "        vold = v[i]\n",
    "        v[i] = metropolis(v[i])\n",
    "    Ewarmup = np.sum(v**2)/nwalkers    \n",
    "    Nwarmup +=1\n",
    "print('\\nNwarmup(N=10) =',Nwarmup,'\\n')  \n",
    "\n",
    "nwalkers = 10 \n",
    "\n",
    "Nwarmup=0\n",
    "v = np.zeros(nwalkers)\n",
    "v.fill(20)\n",
    "T=100\n",
    "Nwarmup=0\n",
    "Ewarmup = np.sum(v**2)/nwalkers\n",
    "while (Ewarmup >= T/2):\n",
    "    for i in range(nwalkers):\n",
    "        vold = v[i]\n",
    "        v[i] = metropolis(v[i])\n",
    "    Ewarmup = np.sum(v**2)/nwalkers    \n",
    "    Nwarmup +=1\n",
    "print('\\nNwarmup (N=40) =',Nwarmup,'\\n')\n"
   ]
  },
  {
   "cell_type": "code",
   "execution_count": 11,
   "metadata": {},
   "outputs": [
    {
     "data": {
      "text/plain": [
       "Text(0, 0.5, 'p(<E>)')"
      ]
     },
     "execution_count": 11,
     "metadata": {},
     "output_type": "execute_result"
    },
    {
     "data": {
      "image/png": "[encoded data removed]",
      "text/plain": [
       "<Figure size 432x288 with 1 Axes>"
      ]
     },
     "metadata": {},
     "output_type": "display_data"
    }
   ],
   "source": [
    "nwalkers = 20 \n",
    "v = np.zeros(nwalkers)\n",
    "\n",
    "T = 400\n",
    "delta = 5\n",
    "vstar=np.sqrt(T/2)\n",
    "v.fill(vstar)\n",
    "Estar = T * nwalkers / 2\n",
    "\n",
    "# Warmup loop\n",
    "\n",
    "Nwarmup = 10000\n",
    "Ewarmup = np.zeros(Nwarmup)\n",
    "\n",
    "\n",
    "for j in range(Nwarmup):\n",
    "    for i in range(nwalkers):\n",
    "        vold = v[i]\n",
    "        v[i] = metropolis(v[i])\n",
    "        \n",
    "        \n",
    "    Ewarmup[j] = np.sum(v**2) # energy of the system\n",
    "    \n",
    "binwidth = Estar/100\n",
    "pyplot.hist(Ewarmup,bins=np.arange( 0,3 * Estar, binwidth),density=True);    \n",
    "\n",
    "pyplot.xlabel('<E>')\n",
    "pyplot.ylabel('p(<E>)')"
   ]
  },
  {
   "cell_type": "code",
   "execution_count": 13,
   "metadata": {},
   "outputs": [
    {
     "data": {
      "text/plain": [
       "Text(0, 0.5, 'ln(p(E))')"
      ]
     },
     "execution_count": 13,
     "metadata": {},
     "output_type": "execute_result"
    },
    {
     "data": {
      "image/png": "[encoded data removed]",
      "text/plain": [
       "<Figure size 432x288 with 1 Axes>"
      ]
     },
     "metadata": {},
     "output_type": "display_data"
    }
   ],
   "source": [
    "##########\n",
    "#probability\n",
    "###\n",
    "\n",
    "nwalkers = 100000 \n",
    "v = np.zeros(nwalkers)\n",
    "\n",
    "T = 100\n",
    "delta = 5\n",
    "vstar=np.sqrt(T/2)\n",
    "v.fill(vstar)\n",
    "Estar = T / 2\n",
    "E = np.zeros(nwalkers)\n",
    "\n",
    "\n",
    "# Warmup loop\n",
    "\n",
    "Nwarmup = 100 # reaching equilibrium\n",
    "Ewarmup = np.zeros(Nwarmup)\n",
    "\n",
    "\n",
    "for j in range(Nwarmup):\n",
    "    for i in range(nwalkers):\n",
    "        vold = v[i]\n",
    "        v[i] = metropolis(v[i])\n",
    "        \n",
    "        \n",
    "    \n",
    "for i in range(nwalkers):\n",
    "    v[i] = metropolis(v[i])\n",
    "    E[i]=v[i]**2\n",
    "binwidth = Estar/200\n",
    "Emax=1.5 * Estar\n",
    "ax=pyplot.hist(E,bins=np.arange( 1,Emax, binwidth),density=True);    \n",
    "[p,Energy]=np.histogram(E,bins=np.arange( 1,Emax, binwidth),density=True)\n",
    "pyplot.xlabel('E')\n",
    "pyplot.ylabel('p(E)')\n",
    "###############\n",
    "\n",
    "pyplot.plot(np.arange( 1,Emax-binwidth, binwidth), np.log(p))\n",
    "pyplot.xlabel('E')\n",
    "pyplot.ylabel('ln(p(E))')"
   ]
  },
  {
   "cell_type": "code",
   "execution_count": 16,
   "metadata": {},
   "outputs": [
    {
     "data": {
      "text/plain": [
       "Text(0, 0.5, 'Cv')"
      ]
     },
     "execution_count": 16,
     "metadata": {},
     "output_type": "execute_result"
    },
    {
     "data": {
      "image/png": "[encoded data removed]",
      "text/plain": [
       "<Figure size 432x288 with 1 Axes>"
      ]
     },
     "metadata": {},
     "output_type": "display_data"
    }
   ],
   "source": [
    "#####heat capacity\n",
    "\n",
    "nwalkers = 10000 \n",
    "v = np.zeros(nwalkers)\n",
    "array_T = np.arange(10,110,10)\n",
    "delta = 5\n",
    "vstar=np.sqrt(T/2)\n",
    "Estar = T / 2\n",
    "v.fill(vstar)\n",
    "Ei = np.zeros(nwalkers)\n",
    "E2i = np.zeros(nwalkers)\n",
    "Nwarmup = 50 # equilibrium\n",
    "CV=np.zeros(len(array_T))\n",
    "Eavg=np.zeros(len(array_T)) #avg energy over all ensembles \n",
    "\n",
    "\n",
    "for k in range(len(array_T)):\n",
    "    T = array_T[k]\n",
    "    E=0\n",
    "    E2=0\n",
    "\n",
    "    for j in range(Nwarmup):\n",
    "        for i in range(nwalkers):\n",
    "            v[i] = metropolis(v[i])\n",
    "        \n",
    "        for i in range(nwalkers):\n",
    "            v[i] = metropolis(v[i])\n",
    "            Ei[i]=v[i]**2\n",
    "            E2i[i]=Ei[i]**2\n",
    "        E=np.sum(Ei)/nwalkers\n",
    "    Eavg[k]=E\n",
    "    E2= np.sum(E2i)/nwalkers \n",
    "\n",
    "    CV[k]= (E2-E**2)/(T**2)\n",
    "    \n",
    "    \n",
    "CVnew=np.diff(Eavg)/np.diff(array_T)\n",
    "CVnew=np.mean(CVnew)\n",
    "pyplot.plot(array_T,CV,'ro',label='$(<E^2>-<E>^2)/T$')\n",
    "pyplot.plot(array_T,np.linspace(CVnew,CVnew,len(array_T)),'k-',label='$\\Delta E/\\Delta T$')\n",
    "\n",
    "pyplot.ylim(0,1)\n",
    "pyplot.xlabel('T')\n",
    "pyplot.ylabel('Cv')\n"
   ]
  },
  {
   "cell_type": "code",
   "execution_count": null,
   "metadata": {},
   "outputs": [],
   "source": []
  }
 ],
 "metadata": {
  "kernelspec": {
   "display_name": "Python 3",
   "language": "python",
   "name": "python3"
  },
  "language_info": {
   "codemirror_mode": {
    "name": "ipython",
    "version": 3
   },
   "file_extension": ".py",
   "mimetype": "text/x-python",
   "name": "python",
   "nbconvert_exporter": "python",
   "pygments_lexer": "ipython3",
   "version": "3.6.4"
  }
 },
 "nbformat": 4,
 "nbformat_minor": 2
}
